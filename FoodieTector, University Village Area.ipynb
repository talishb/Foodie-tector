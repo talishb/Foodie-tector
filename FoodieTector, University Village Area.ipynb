{
 "cells": [
  {
   "cell_type": "code",
   "execution_count": 1,
   "metadata": {},
   "outputs": [],
   "source": [
    "import pandas as pd\n",
    "\n",
    "\n",
    "data = pd.read_csv('yelp data.csv')\n",
    "data['review'] = data['review'].str.lower()\n",
    "data['review'] = data['review'].str.replace(r'\\.|\\!|\\?|\\'|,|-|\\(|\\)', \"\",)\n",
    "data['review'] = data['review'].fillna('')"
   ]
  },
  {
   "cell_type": "code",
   "execution_count": 2,
   "metadata": {},
   "outputs": [],
   "source": [
    "from sklearn.feature_extraction.text import CountVectorizer\n",
    "vectorizer = CountVectorizer(max_features=5000)\n",
    "X = vectorizer.fit_transform(data['review'])\n",
    "bag_of_words = pd.DataFrame(X.toarray(), columns=vectorizer.get_feature_names())\n",
    "X = bag_of_words\n",
    "Y_restaurant = data['restaurant name']"
   ]
  },
  {
   "cell_type": "code",
   "execution_count": 3,
   "metadata": {},
   "outputs": [],
   "source": [
    "from sklearn.ensemble import RandomForestClassifier\n",
    "rfc = RandomForestClassifier()\n",
    "rfc.fit(X,Y_restaurant)\n",
    "test_review = ['''best indian lamb biryani''']"
   ]
  },
  {
   "cell_type": "code",
   "execution_count": 4,
   "metadata": {},
   "outputs": [
    {
     "name": "stdout",
     "output_type": "stream",
     "text": [
      "Curry on Fire\n"
     ]
    }
   ],
   "source": [
    "\n",
    "X_test = vectorizer.transform(test_review).toarray()\n",
    "prediction = rfc.predict(X_test)[0]\n",
    "\n",
    "\n",
    "data[data['restaurant name'] == prediction][['restaurant name', 'restaurant address', 'restaurant type', 'restaurant rating']].head(1)\n",
    "\n",
    "\n",
    "print (prediction)"
   ]
  },
  {
   "cell_type": "code",
   "execution_count": null,
   "metadata": {},
   "outputs": [],
   "source": []
  }
 ],
 "metadata": {
  "kernelspec": {
   "display_name": "Python 3",
   "language": "python",
   "name": "python3"
  },
  "language_info": {
   "codemirror_mode": {
    "name": "ipython",
    "version": 3
   },
   "file_extension": ".py",
   "mimetype": "text/x-python",
   "name": "python",
   "nbconvert_exporter": "python",
   "pygments_lexer": "ipython3",
   "version": "3.6.5"
  }
 },
 "nbformat": 4,
 "nbformat_minor": 2
}
